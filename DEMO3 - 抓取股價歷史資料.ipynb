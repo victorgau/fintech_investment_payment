{
 "cells": [
  {
   "cell_type": "markdown",
   "metadata": {},
   "source": [
    "## 讀取股價歷史資料\n",
    "\n",
    "讀取股價歷史資料，並繪製線圖！\n",
    "\n",
    "如果沒有 pandas data reader，記得要 pip install。\n",
    "\n",
    "譬如在命令列中，使用：\n",
    "\n",
    "    c:\\> pip install pandas-datareader\n",
    "    \n",
    "或在 jupyter notebook中，使用:\n",
    "\n",
    "    !pip install pandas-datareader\n"
   ]
  },
  {
   "cell_type": "code",
   "execution_count": null,
   "metadata": {},
   "outputs": [],
   "source": [
    "import pandas_datareader.data as web\n",
    "from datetime import datetime\n",
    "%matplotlib inline"
   ]
  },
  {
   "cell_type": "code",
   "execution_count": null,
   "metadata": {},
   "outputs": [],
   "source": [
    "df = web.DataReader(\"2330.tw\", 'yahoo', datetime(2016,1,1))\n",
    "df[['Close', 'Volume']].plot(subplots=True);"
   ]
  }
 ],
 "metadata": {
  "anaconda-cloud": {},
  "kernelspec": {
   "display_name": "Python 3",
   "language": "python",
   "name": "python3"
  },
  "language_info": {
   "codemirror_mode": {
    "name": "ipython",
    "version": 3
   },
   "file_extension": ".py",
   "mimetype": "text/x-python",
   "name": "python",
   "nbconvert_exporter": "python",
   "pygments_lexer": "ipython3",
   "version": "3.7.1"
  }
 },
 "nbformat": 4,
 "nbformat_minor": 2
}
