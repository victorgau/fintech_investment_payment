{
 "cells": [
  {
   "cell_type": "markdown",
   "metadata": {
    "colab_type": "text",
    "id": "wprFjxHm-mKy"
   },
   "source": [
    "## 使用 ImageAI 來分析圖片內容\n",
    "\n",
    "ImageAI Github: https://github.com/OlafenwaMoses/ImageAI\n",
    "\n",
    "ImageAI Object Detection: https://github.com/OlafenwaMoses/ImageAI/blob/master/imageai/Detection/README.md\n",
    "\n",
    "tensorflow 魔術指令設定參考：https://colab.research.google.com/notebooks/tensorflow_version.ipynb\n",
    "\n",
    "%tensorflow_version 1.x     # 設定為 1.x 版\n",
    "\n",
    "%tensorflow_version 2.x     # 設定為 2.x 版"
   ]
  },
  {
   "cell_type": "code",
   "execution_count": null,
   "metadata": {
    "colab": {},
    "colab_type": "code",
    "id": "UaFuBS-f-7Pc"
   },
   "outputs": [],
   "source": [
    "# 設定 tensorflow 使用的版本\n",
    "%tensorflow_version 1.x"
   ]
  },
  {
   "cell_type": "code",
   "execution_count": null,
   "metadata": {
    "colab": {},
    "colab_type": "code",
    "id": "oGxyqyrw_AhO"
   },
   "outputs": [],
   "source": [
    "# 看看 tensorflow 有沒有使用 GPU\n",
    "import tensorflow as tf\n",
    "tf.test.gpu_device_name()"
   ]
  },
  {
   "cell_type": "code",
   "execution_count": null,
   "metadata": {
    "colab": {},
    "colab_type": "code",
    "id": "kKJdMxhTZxSg"
   },
   "outputs": [],
   "source": [
    "# 下載訓練好的 YOLOv3 的模型\n",
    "!wget https://github.com/OlafenwaMoses/ImageAI/releases/download/1.0/yolo.h5 -o log.txt"
   ]
  },
  {
   "cell_type": "code",
   "execution_count": null,
   "metadata": {
    "colab": {},
    "colab_type": "code",
    "id": "iLVzl9LM-NLw"
   },
   "outputs": [],
   "source": [
    "# 安裝 imageai\n",
    "!pip install imageai -q --upgrade"
   ]
  },
  {
   "cell_type": "code",
   "execution_count": null,
   "metadata": {
    "colab": {},
    "colab_type": "code",
    "id": "Hshi5E_X-O1H"
   },
   "outputs": [],
   "source": [
    "# 上傳圖片後，檢視圖片\n",
    "from IPython.display import Image\n",
    "Image('image.jpg')"
   ]
  },
  {
   "cell_type": "code",
   "execution_count": null,
   "metadata": {
    "colab": {},
    "colab_type": "code",
    "id": "iURfi_16-aKb"
   },
   "outputs": [],
   "source": [
    "# 分析圖片的內容\n",
    "from imageai.Detection import ObjectDetection\n",
    "import os\n",
    "\n",
    "execution_path = os.getcwd()\n",
    "\n",
    "detector = ObjectDetection()\n",
    "detector.setModelTypeAsYOLOv3()\n",
    "detector.setModelPath( os.path.join(execution_path , \"yolo.h5\"))\n",
    "detector.loadModel()\n",
    "detections = detector.detectObjectsFromImage(input_image=os.path.join(execution_path , \"image.jpg\"), output_image_path=os.path.join(execution_path , \"imagenew.jpg\"), minimum_percentage_probability=30)\n",
    "\n",
    "for eachObject in detections:\n",
    "    print(eachObject[\"name\"] , \" : \", eachObject[\"percentage_probability\"], \" : \", eachObject[\"box_points\"] )\n",
    "    print(\"--------------------------------\")"
   ]
  },
  {
   "cell_type": "code",
   "execution_count": null,
   "metadata": {
    "colab": {},
    "colab_type": "code",
    "id": "rNcCVrCq-juM"
   },
   "outputs": [],
   "source": [
    "# 顯示分析後的結果\n",
    "from IPython.display import Image\n",
    "Image('imagenew.jpg')"
   ]
  }
 ],
 "metadata": {
  "colab": {
   "collapsed_sections": [],
   "name": "分析圖片內容.ipynb",
   "provenance": []
  },
  "kernelspec": {
   "display_name": "Python 3",
   "language": "python",
   "name": "python3"
  },
  "language_info": {
   "codemirror_mode": {
    "name": "ipython",
    "version": 3
   },
   "file_extension": ".py",
   "mimetype": "text/x-python",
   "name": "python",
   "nbconvert_exporter": "python",
   "pygments_lexer": "ipython3",
   "version": "3.7.1"
  }
 },
 "nbformat": 4,
 "nbformat_minor": 2
}
